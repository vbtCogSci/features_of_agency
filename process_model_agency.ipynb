{
  "nbformat": 4,
  "nbformat_minor": 0,
  "metadata": {
    "colab": {
      "name": "process_model_agency.ipynb",
      "provenance": []
    },
    "kernelspec": {
      "name": "python3",
      "display_name": "Python 3"
    },
    "language_info": {
      "name": "python"
    }
  },
  "cells": [
    {
      "cell_type": "markdown",
      "source": [
        "# A process model approach to agency attribution\n",
        "\n",
        "## What we have done\n",
        "\n",
        "- Used 10 words to gather comparative judgement of agency, free will and goal directedness\n",
        "- Started thinking about which features may be driving differences with alive seemingly being a key one\n",
        "\n",
        "## What would be great to have for the Nature call for papers\n",
        "\n",
        "It would be great to have a process model of how people generate judgments of agency and how they combine them to answer the comparison task. \n",
        "\n",
        "### Objects and features\n",
        "Consider two sets. A first set $B$ of entities or objects, in which we can find all possible \"things\" that exists. A second set $\\mathbf{C}$ of features or characteristics (alive, digital/physical presence, movement, etc.) which define a space where all possible objects can theoretically be placed. We call $\\mathbf{c}(b)$ or $\\mathbf{c}_b$ a vector containing the feature values of an arbitrary object $b$ in $B$. \n",
        "\n",
        "<b> Assumptions </b>\n",
        "\n",
        "1. We assume that for all objects $b \\in B$, all participants hold the same $\\mathbf{c}_b$, i.e. all participants have the same beliefs about the feature value of that entity and that the object can be represented using these features.\n",
        "\\begin{align}\n",
        "    ∀ \\: x \\in B \\: | \\: ∃ \\: \\mathbf{c}(x) \\in \\mathbf{C}\n",
        "\\end{align}\n",
        "\n",
        "2. While all entities $b \\in B$ are unique, we do not assume that for all pairs of entities $b_i$, $b_j$ their feature values $c_{b_i}$, $c_{b_j}$ must be different as well.\n",
        "\\begin{align}\n",
        "    ∀ \\: x, y \\in B \\: | \\: x \\neq y \\: \\nRightarrow \\: \\mathbf{c}_{b_i} \\neq \\mathbf{c}_{b_j}\n",
        "\\end{align}\n",
        "\n",
        "### Agency\n",
        "\n",
        "We call $\\alpha(\\mathbf{c}): \\mathbf{C} → \\mathbb{R}$ a mapping from the space of features to a real number, i.e. an agency score. We call $\\alpha_a^*$ is the ideal or true agency judgement for object $a$, i.e. a theoretical value of its chance to win any comparison trial averaged over all possible objects $a$ in $A$.\n",
        "\n",
        "### General problem\n",
        "Thus, in general, for any $\\mathbf{c} \\in \\mathbf{C}$ we want to find the form of $\\alpha$ such that $\\alpha(\\mathbf{c}) = \\alpha^*$.\n",
        "\n",
        "#### Problems with $\\alpha^*$\n",
        "\n",
        "The main problem with finding $\\alpha^*$ is that \n",
        "\n",
        "## Propositions\n",
        "\n",
        "### Hyopthesis 1: unranked linear function\n"
      ],
      "metadata": {
        "id": "sLXyhxPZUykJ"
      }
    },
    {
      "cell_type": "code",
      "execution_count": null,
      "metadata": {
        "id": "wDZWJ3jDUrwB"
      },
      "outputs": [],
      "source": [
        ""
      ]
    }
  ]
}